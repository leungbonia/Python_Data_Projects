{
 "cells": [
  {
   "cell_type": "code",
   "execution_count": 18,
   "metadata": {},
   "outputs": [],
   "source": [
    "# Importing Libraries\n",
    "import pandas as pd\n",
    "from datasets import load_dataset\n",
    "import matplotlib.pyplot as plt \n",
    "\n",
    "# Loading Data\n",
    "dataset = load_dataset('lukebarousse/data_jobs')\n",
    "df = dataset['train'].to_pandas()\n",
    "\n",
    "# Data Cleanup\n",
    "df['job_posted_date'] = pd.to_datetime(df['job_posted_date'])"
   ]
  },
  {
   "cell_type": "code",
   "execution_count": null,
   "metadata": {},
   "outputs": [
    {
     "name": "stdout",
     "output_type": "stream",
     "text": [
      "Original dataframe:  785741\n",
      "New dataframe:  22003\n"
     ]
    }
   ],
   "source": [
    "#Remove Rows with missing Values\n",
    "\n",
    "df_salary = df\n",
    "df_salary = df_salary.dropna(subset='salary_year_avg')\n",
    "\n",
    "print('Original dataframe: ', len(df))\n",
    "print('New dataframe: ', len(df_salary))\n",
    "\n",
    "#rows_before = len(df)\n",
    "\n",
    "#df_cleaned = df.dropna(subset=['salary_year_avg'])\n",
    "#rows_after = len(df_cleaned)\n",
    "\n",
    "#rows_before, rows_after"
   ]
  },
  {
   "cell_type": "code",
   "execution_count": null,
   "metadata": {},
   "outputs": [
    {
     "data": {
      "text/plain": [
       "(785741, 17218)"
      ]
     },
     "execution_count": 4,
     "metadata": {},
     "output_type": "execute_result"
    }
   ],
   "source": [
    "#Remove duplicate rows\n",
    "\n",
    "rows_before = len(df)\n",
    "\n",
    "df_location = df.drop_duplicates(subset='job_location')\n",
    "rows_after = len(df_location)\n",
    "\n",
    "rows_before, rows_after\n",
    "\n",
    "#rows_before = df.shape[0]\n",
    "#df_unique = df.drop_duplicates(subset=['job_location'])\n",
    "#rows_after = df_unique.shape[0]\n",
    "#rows_before, rows_after"
   ]
  },
  {
   "cell_type": "code",
   "execution_count": 19,
   "metadata": {},
   "outputs": [
    {
     "data": {
      "text/plain": [
       "(0    None\n",
       " 1    None\n",
       " 2    None\n",
       " 3    None\n",
       " 4    None\n",
       " 5    None\n",
       " 6    None\n",
       " 7    None\n",
       " 8    None\n",
       " 9    None\n",
       " Name: salary_rate, dtype: object,\n",
       " 0    Unknown\n",
       " 1    Unknown\n",
       " 2    Unknown\n",
       " 3    Unknown\n",
       " 4    Unknown\n",
       " 5    Unknown\n",
       " 6    Unknown\n",
       " 7    Unknown\n",
       " 8    Unknown\n",
       " 9    Unknown\n",
       " Name: salary_rate, dtype: object)"
      ]
     },
     "execution_count": 19,
     "metadata": {},
     "output_type": "execute_result"
    }
   ],
   "source": [
    "#Fill missing values in column\n",
    "# print(df['salary_rate'].head(10))\n",
    "# df_cleaned = df\n",
    "# df_cleaned['salary_rate'] = df_cleaned['salary_rate'].fillna(value='Unknown')\n",
    "\n",
    "# print(df.loc[:10,'salary_rate'])\n",
    "# print(df_cleaned.loc[:10,'salary_rate'])\n",
    "\n",
    "salary_rate_before = df['salary_rate'].head(10)\n",
    "df_filled = df.fillna({'salary_rate':'Unknown'})\n",
    "salary_rate_after = df_filled['salary_rate'].head(10)\n",
    "\n",
    "salary_rate_before, salary_rate_after"
   ]
  },
  {
   "cell_type": "code",
   "execution_count": null,
   "metadata": {},
   "outputs": [],
   "source": []
  }
 ],
 "metadata": {
  "kernelspec": {
   "display_name": "python_course",
   "language": "python",
   "name": "python3"
  },
  "language_info": {
   "codemirror_mode": {
    "name": "ipython",
    "version": 3
   },
   "file_extension": ".py",
   "mimetype": "text/x-python",
   "name": "python",
   "nbconvert_exporter": "python",
   "pygments_lexer": "ipython3",
   "version": "3.11.11"
  }
 },
 "nbformat": 4,
 "nbformat_minor": 2
}
