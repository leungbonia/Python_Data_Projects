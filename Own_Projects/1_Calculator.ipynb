{
 "cells": [
  {
   "cell_type": "markdown",
   "metadata": {},
   "source": [
    "# Setting up a simple calculator\n",
    "\n",
    "1. Asking user input to perform simple calculations\n",
    "2. This calculator can only perform +, -, *, / . \n",
    "3. This calculator can only perform calculations using 2 arguments."
   ]
  },
  {
   "cell_type": "code",
   "execution_count": null,
   "metadata": {},
   "outputs": [
    {
     "name": "stdout",
     "output_type": "stream",
     "text": [
      "This calculator cannot perform division by 0.\n"
     ]
    },
    {
     "ename": "ZeroDivisionError",
     "evalue": "float division by zero",
     "output_type": "error",
     "traceback": [
      "\u001b[31m---------------------------------------------------------------------------\u001b[39m",
      "\u001b[31mZeroDivisionError\u001b[39m                         Traceback (most recent call last)",
      "\u001b[36mCell\u001b[39m\u001b[36m \u001b[39m\u001b[32mIn[25]\u001b[39m\u001b[32m, line 32\u001b[39m\n\u001b[32m     30\u001b[39m     \u001b[38;5;28mprint\u001b[39m (input_1 * input_2)\n\u001b[32m     31\u001b[39m \u001b[38;5;28;01melif\u001b[39;00m (arith == \u001b[33m'\u001b[39m\u001b[33m/\u001b[39m\u001b[33m'\u001b[39m):\n\u001b[32m---> \u001b[39m\u001b[32m32\u001b[39m     \u001b[38;5;28mprint\u001b[39m (\u001b[43minput_1\u001b[49m\u001b[43m \u001b[49m\u001b[43m/\u001b[49m\u001b[43m \u001b[49m\u001b[43minput_2\u001b[49m)\n\u001b[32m     33\u001b[39m \u001b[38;5;28;01melse\u001b[39;00m:\n\u001b[32m     34\u001b[39m     \u001b[38;5;28mprint\u001b[39m(\u001b[33m\"\u001b[39m\u001b[33mIncorrect input\u001b[39m\u001b[33m\"\u001b[39m)\n",
      "\u001b[31mZeroDivisionError\u001b[39m: float division by zero"
     ]
    }
   ],
   "source": [
    "while True:  # Infinite loop until valid input\n",
    "    try:\n",
    "        input_1 = float(input('Please enter the first number in the equation:'))\n",
    "        break  # Exit loop if conversion succeeds\n",
    "    except ValueError:\n",
    "        print('Incorrect input. Please enter a valid number.')\n",
    "\n",
    "arith = input('Please input which function you want to perform: [+] for addition, [-] for subtractioion, [*] for multiplication, [/] for division')\n",
    "if (arith != '+' and arith != '-' and arith !='*' and arith !='/'):\n",
    "    print('Incorrect input.')\n",
    "\n",
    "\n",
    "while True:  # Infinite loop until valid input\n",
    "    try:\n",
    "        input_2 = float(input('Please enter the first number in the equation:'))\n",
    "        break  # Exit loop if conversion succeeds\n",
    "    except ValueError:\n",
    "        print('Incorrect input. Please enter a valid number.')\n",
    "\n",
    "if ((arith == '/') and (input_2 == 0)):\n",
    "    print('This calculator cannot perform division by 0.')\n",
    "    \n",
    "\n",
    "\n",
    "if (arith == '+'):\n",
    "    print(input_1 + input_2)\n",
    "elif (arith == '-'):\n",
    "    print (input_1 - input_2)\n",
    "elif (arith == '*'):\n",
    "    print (input_1 * input_2)\n",
    "elif (arith == '/'):\n",
    "    print (input_1 / input_2)\n",
    "else:\n",
    "    print(\"Incorrect input\")"
   ]
  },
  {
   "cell_type": "code",
   "execution_count": 27,
   "metadata": {},
   "outputs": [
    {
     "name": "stdout",
     "output_type": "stream",
     "text": [
      "Result: 3649837498796.0 / 4983489.0 = 732385.9847580681\n"
     ]
    }
   ],
   "source": [
    "#Imporved codes by ChatGPT\n",
    "\n",
    "import sys\n",
    "\n",
    "# Function to get a valid number from the user\n",
    "def get_number(prompt):\n",
    "    while True:\n",
    "        try:\n",
    "            return float(input(prompt))  # Convert input to float and return\n",
    "        except ValueError:\n",
    "            print(\"Incorrect input. Please enter a valid number.\")\n",
    "\n",
    "# Function to get a valid arithmetic operator\n",
    "def get_operator():\n",
    "    valid_operators = {'+', '-', '*', '/'}\n",
    "    while True:\n",
    "        operator = input(\"Please input which function you want to perform: [+] for addition, [-] for subtraction, [*] for multiplication, [/] for division: \")\n",
    "        if operator in valid_operators:\n",
    "            return operator\n",
    "        print(\"Incorrect input. Please enter a valid operator.\")\n",
    "\n",
    "# Get first number\n",
    "input_1 = get_number(\"Please enter the first number in the equation: \")\n",
    "\n",
    "# Get operator\n",
    "arith = get_operator()\n",
    "\n",
    "# Get second number\n",
    "input_2 = get_number(\"Please enter the second number in the equation: \")\n",
    "\n",
    "# Handle division by zero\n",
    "if arith == '/' and input_2 == 0:\n",
    "    print(\"Error: This calculator cannot perform division by 0.\")\n",
    "    sys.exit()\n",
    "\n",
    "# Perform calculation\n",
    "result = {\n",
    "    '+': input_1 + input_2,\n",
    "    '-': input_1 - input_2,\n",
    "    '*': input_1 * input_2,\n",
    "    '/': input_1 / input_2\n",
    "}[arith]\n",
    "\n",
    "# Display result\n",
    "print(f\"Result: {input_1} {arith} {input_2} = {result}\")"
   ]
  },
  {
   "cell_type": "code",
   "execution_count": null,
   "metadata": {},
   "outputs": [],
   "source": []
  }
 ],
 "metadata": {
  "kernelspec": {
   "display_name": "python_course",
   "language": "python",
   "name": "python3"
  },
  "language_info": {
   "codemirror_mode": {
    "name": "ipython",
    "version": 3
   },
   "file_extension": ".py",
   "mimetype": "text/x-python",
   "name": "python",
   "nbconvert_exporter": "python",
   "pygments_lexer": "ipython3",
   "version": "3.11.11"
  }
 },
 "nbformat": 4,
 "nbformat_minor": 2
}
